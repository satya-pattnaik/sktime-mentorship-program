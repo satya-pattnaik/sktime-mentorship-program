{
 "cells": [
  {
   "cell_type": "markdown",
   "metadata": {},
   "source": [
    "# Hierarchical time series\n",
    "\n",
    "## Introduction\n",
    "\n",
    "A Time Series which follows an hierarchical aggreagted structure for example across geographical areas.\n",
    "From Store Level to District Level to State Level and then Country Level. The following picture depicts such a hierarchy(insipred from [M5 Walmart Data](https://www.kaggle.com/c/m5-forecasting-accuracy)). \n",
    "\n",
    "![HTS](HTS.png)<br>\n",
    "The challenge lies in Forecasting across the geographical divisions with highest accuracy.\n",
    "\n",
    "For any time **t**, the observations at the bottom level will sum up to series above,<br>\n",
    "$$\n",
    "\\begin{aligned}\n",
    " y_{Total} &= y_{CA} + Y_{TX} \\\\\n",
    " y_{CA} &= y_{CA_1} + Y_{CA_2} \\\\\n",
    " y_{TX} &= y_{TX_1} + Y_{TX_2}\n",
    "\\end{aligned}\n",
    "$$\n",
    " A more general form of representation will be:\n",
    " $$\\tilde{y}_h=S\\hat{b}_t$$\n",
    "\n",
    "where **b<sub>t</sub>** are the base forecasts, **S** is the summation matrix and **$\\tilde{y}_h$** the aggragated data."
   ]
  },
  {
   "cell_type": "markdown",
   "metadata": {},
   "source": [
    "The matrix form:\n",
    "$$\\begin{bmatrix} y_{Total} \\\\ y_{CA}\\\\ y_{TX} \\\\  y_{CA_1} \\\\ y_{CA_2} \\\\  y_{TX_1} \\\\ y_{TX_2}\\end{bmatrix} = \\begin{bmatrix} 1 & 1 & 1 & 1 \\\\ 1 & 1 & 0 & 0 \\\\ 0 & 0 & 1 & 1 \\\\ 1 & 0 & 0 & 0 \\\\ 0 & 1 & 0 & 0 \\\\ 0 & 0 & 1 & 0 \\\\ 0 & 0 & 0 & 1 \\end{bmatrix} \\begin{bmatrix}y_{CA_1} \\\\ y_{CA_2} \\\\  y_{TX_1} \\\\ y_{TX_2}\\end{bmatrix}$$"
   ]
  },
  {
   "cell_type": "markdown",
   "metadata": {},
   "source": [
    "## Approaches for Hierarchichal Forecasting\n",
    "\n",
    "### The Bottom Up Approach\n",
    "\n",
    "A simple method for generating coherent forecasts is the Bottom Up Approach.The coherent forecasts are produced by summing up the bottom level individual forecasts. To represent in Matrix notation:<br>\n",
    "$$\\begin{bmatrix} \\tilde{y}_{Total} \\\\ \\tilde{y}_{CA}\\\\ \\tilde{y}_{TX} \\\\  \\tilde{y}_{CA_1} \\\\ \\tilde{y}_{CA_2} \\\\  \\tilde{y}_{TX_1} \\\\ \\tilde{y}_{TX_2}\\end{bmatrix} = \\begin{bmatrix} 1 & 1 & 1 & 1 \\\\ 1 & 1 & 0 & 0 \\\\ 0 & 0 & 1 & 1 \\\\ 1 & 0 & 0 & 0 \\\\ 0 & 1 & 0 & 0 \\\\ 0 & 0 & 1 & 0 \\\\ 0 & 0 & 0 & 1 \\end{bmatrix} \\begin{bmatrix}\\hat{y}_{CA_1} \\\\ \\hat{y}_{CA_2} \\\\  \\hat{y}_{TX_1} \\\\ \\hat{y}_{TX_2}\\end{bmatrix}$$"
   ]
  },
  {
   "cell_type": "markdown",
   "metadata": {},
   "source": [
    "### The Top Down Approach\n",
    "This involves generating forecasts at the top level and then disaggregating the forecasts to individual levels based on proportions.\n",
    "\n",
    "A general notation for this will be\n",
    "\n",
    "Based on the above example, for store CA_1 the forecast will be:\n",
    "\\begin{aligned}\n",
    " \\tilde{y}_{CA} &= p.\\hat{y}_{Total} \n",
    "\\end{aligned}<br>\n",
    "where **p** is the historical proportion of sales at **CA_1 store**.\n",
    "The computation of **p** can be done in two ways:\n",
    "#### 1.Average historical proportions.\n",
    "A general notation for this is\n",
    "\\begin{aligned}\n",
    "p_j=\\frac{1}{T}\\sum_{t=1}^{T}\\frac{y_{j,t}}{{y_t}}\n",
    "\\end{aligned}<br>\n",
    "\n",
    "where, **y<sub>j,t</sub>** is the historical value for bottom level series **j** at time **t** and<br> **y<sub>t</sub>** is the total aggregate, over the period t=1,2,...,T.<br><br>\n",
    "For our example:\n",
    "\\begin{aligned}\n",
    "p = \\frac{1}{T}\\sum_{t=1}^{T}\\frac{y_{CA_1,t}}{{y_{Total}}}\n",
    "\\end{aligned}<br> \n",
    "#### 2.Proportions of the historical averages.\n",
    "\\begin{aligned}\n",
    "p_j={\\sum_{t=1}^{T}\\frac{y_{j,t}}{T}}\\Big/{\\sum_{t=1}^{T}\\frac{y_t}{T}}\n",
    "\\end{aligned}<br>"
   ]
  },
  {
   "cell_type": "markdown",
   "metadata": {},
   "source": [
    "## The Optimal Reconciliation\n",
    "\n",
    "Considering a more generalized form to represent Hierarchical Forecasts, the mapping matrices can be represented as:\n",
    "\\begin{equation}\n",
    "  \\tilde{y}_h=SG\\hat{y}_h\n",
    "\\end{equation}\n",
    "where **S** is summation matrix and *$\\hat{y}$* are the set of base forecasts. The optimal reconciliation approach is about finding the optimal **G** matrix which in turn provides the most accurate coherent forecasts $\\tilde{y}$."
   ]
  },
  {
   "cell_type": "markdown",
   "metadata": {},
   "source": [
    "## API Design(Initial Version)\n",
    "```\n",
    "base_forecasts = ['CA_1','CA_2','TX_1','TX_2'] \n",
    "reconciled_forecasts = reconcile(base_forecasts,method='bu')\n",
    "```"
   ]
  },
  {
   "cell_type": "markdown",
   "metadata": {},
   "source": [
    "## References\n",
    "1. https://otexts.com/fpp2/hierarchical.html\n",
    "2. [R Package](https://cran.r-project.org/web/packages/hts/index.html) \n",
    "3. [Python Package](https://pypi.org/project/scikit-hts/)\n",
    "\n",
    "## Examples(Python Package)\n",
    "1. [ScikitHTS Example](https://github.com/carlomazzaferro/scikit-hts)\n",
    "2. [Example Notebook in Python](https://colab.research.google.com/drive/1thHtaUS-8boRRVqZ1pYiog8zpljndxAu?usp=sharing)"
   ]
  }
 ],
 "metadata": {
  "kernelspec": {
   "display_name": "Python 3",
   "language": "python",
   "name": "python3"
  },
  "language_info": {
   "codemirror_mode": {
    "name": "ipython",
    "version": 3
   },
   "file_extension": ".py",
   "mimetype": "text/x-python",
   "name": "python",
   "nbconvert_exporter": "python",
   "pygments_lexer": "ipython3",
   "version": "3.8.8"
  }
 },
 "nbformat": 4,
 "nbformat_minor": 4
}
