{
 "cells": [
  {
   "cell_type": "markdown",
   "id": "9dd7f490",
   "metadata": {},
   "source": [
    "# Panel Forecasting Using Decision Trees/Decision Tree Ensembles\n",
    "\n",
    "Given a dataset in Panel format, for .e.g\n",
    "\n",
    "| Time  | Store Id | Sales |\n",
    "| :---: | :---:    | :---: |\n",
    "| Jan | Store1   | 283   |\n",
    "| ... | Store1   | ...   |\n",
    "| Dec | Store1   | 200   |\n",
    "| Jan | Store2   | 11   |\n",
    "| ... | Store2   | ...   |\n",
    "| Dec | Store2   | 31   |\n",
    "\n",
    "We need a ```make_panel_reduction``` with exogenous variables which transforms the data into the following format.\n",
    "The IDs identifying ```multiple panels``` will be passed as Categorical Exogenous Variable.\n",
    "  \n",
    "\n",
    "| Lag2  | Lag1 | Store Id | Target |\n",
    "| :---: | :---:| :---:    | :---:  |\n",
    "| 283   | 205  | Store1   | Mar Sales S1   |\n",
    "| ...   | ...  | Store1   | Dec Sales S1  |\n",
    "| 11    | 13   | Store2   | Mar Sales S2  |\n",
    "| ...   | ...  | Store2   | Dec Sales S2  |\n",
    "\n",
    "So we can train a **single model** on the above reduced data set and have a Panel Forecaster. The Decision Tree/GBM/RF will make the first split based on the ```Panel Id```(which will amount to maximum reduction of variance in the data), after which, to put it loosley - the case almost becomes univariate(internal to the Decision Tree). Plotting a feature importance plot for the Decision Tree should show the Panel ID column to be the most important one.\n",
    "\n",
    "\n",
    "\n",
    "                                                Split on \"StoreId\"\n",
    "                                                        |\n",
    "                                if Store Id == \"Store 1\"|if Store Id == \"Store 2\"\n",
    "                                 _______________________|_______________________\n",
    "                                |                                               |\n",
    "                                |                                               | \n",
    "                                |                                               |\n",
    "                                |                                               |\n",
    "                                \n",
    " | Lag2  | Lag1 | Store Id | Target||                              | Lag2  | Lag1 | Store Id | Target |\n",
    "| :---: | :---:| :---:  | :---:   |:---:|                                    | :---: | :---:| :---:    | :---:  |\n",
    "| 283   | 205  | Store1 | Mar Sales S1| |                           | 11    | 13   | Store2   | Mar Sales S2  |\n",
    "| ...   | ...  | Store1   | Dec Sales S1| |                            | ...   | ...  | Store2   | Dec Sales S2  |                 \n",
    "\n",
    "**Advantage-**\n",
    "In a practical setting where we have 1000s of SKU time series to train as in Retail, a Single Model will be sufficient instead of 1000 different univariate models.\n",
    "\n",
    "**Caveats -**\n",
    "* Boosting models don't do well when it comes to capturing **trend**, this can be taken care of by using differences of the values across different lags as exogenous/ fitting a differenced series like ARIMA etc. \n",
    "\n",
    "*Note* - Seasonality can be captured by using Date-time indicators like Month/Day of Week etc. as Categorical Exogenous variables.\n",
    "\n",
    "* Did not find any sound research paper on this yet.\n",
    "\n",
    "References-\n",
    "1. [Notebook by MS](https://github.com/microsoft/forecasting/blob/master/examples/grocery_sales/python/00_quick_start/lightgbm_single_round.ipynb)\n",
    "2. [Something similar in Neural Nets by GluonTS](https://github.com/awslabs/gluon-ts/blob/master/examples/m5_gluonts_template.ipynb)\n"
   ]
  },
  {
   "cell_type": "code",
   "execution_count": null,
   "id": "feadb609",
   "metadata": {},
   "outputs": [],
   "source": []
  }
 ],
 "metadata": {
  "kernelspec": {
   "display_name": "Python 3",
   "language": "python",
   "name": "python3"
  },
  "language_info": {
   "codemirror_mode": {
    "name": "ipython",
    "version": 3
   },
   "file_extension": ".py",
   "mimetype": "text/x-python",
   "name": "python",
   "nbconvert_exporter": "python",
   "pygments_lexer": "ipython3",
   "version": "3.8.8"
  }
 },
 "nbformat": 4,
 "nbformat_minor": 5
}
